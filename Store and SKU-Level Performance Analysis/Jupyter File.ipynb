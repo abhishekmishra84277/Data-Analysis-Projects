{
 "cells": [
  {
   "cell_type": "markdown",
   "id": "93a4a083-34af-4259-b916-ba7814be97f4",
   "metadata": {},
   "source": [
    "# Load libraries"
   ]
  },
  {
   "cell_type": "code",
   "execution_count": 191,
   "id": "728210aa-089b-4c44-b8b2-02d545c308bf",
   "metadata": {},
   "outputs": [],
   "source": [
    "import numpy as np \n",
    "import pandas as pd "
   ]
  },
  {
   "cell_type": "markdown",
   "id": "f1522402-b3ef-44e7-a5f4-365947c8fd02",
   "metadata": {},
   "source": [
    "# Load dataset"
   ]
  },
  {
   "cell_type": "code",
   "execution_count": 15,
   "id": "a91304c4-d594-472a-90f1-e77d344440aa",
   "metadata": {},
   "outputs": [],
   "source": [
    "df = pd.read_csv('Downloads/store_sku_ba_dataset.csv')"
   ]
  },
  {
   "cell_type": "code",
   "execution_count": 17,
   "id": "0a131bda-2d52-4d33-893a-21b84b08e861",
   "metadata": {},
   "outputs": [
    {
     "data": {
      "text/plain": [
       "(1000, 5)"
      ]
     },
     "execution_count": 17,
     "metadata": {},
     "output_type": "execute_result"
    }
   ],
   "source": [
    "df.shape"
   ]
  },
  {
   "cell_type": "markdown",
   "id": "2b675d09-834c-4aed-836e-1e50c017533d",
   "metadata": {},
   "source": [
    "# Dataset columns info"
   ]
  },
  {
   "cell_type": "code",
   "execution_count": 21,
   "id": "7a1a4fec-3ab5-4665-b1af-f56e6a61c94a",
   "metadata": {},
   "outputs": [
    {
     "name": "stdout",
     "output_type": "stream",
     "text": [
      "<class 'pandas.core.frame.DataFrame'>\n",
      "RangeIndex: 1000 entries, 0 to 999\n",
      "Data columns (total 5 columns):\n",
      " #   Column        Non-Null Count  Dtype  \n",
      "---  ------        --------------  -----  \n",
      " 0   Store ID      1000 non-null   object \n",
      " 1   SKU ID        1000 non-null   object \n",
      " 2   Total Visits  1000 non-null   int64  \n",
      " 3   Transactions  1000 non-null   int64  \n",
      " 4   Revenue       1000 non-null   float64\n",
      "dtypes: float64(1), int64(2), object(2)\n",
      "memory usage: 39.2+ KB\n"
     ]
    }
   ],
   "source": [
    "df.info()"
   ]
  },
  {
   "cell_type": "code",
   "execution_count": 23,
   "id": "f14d60c9-d75b-45d5-bb56-a7cedca6ab0d",
   "metadata": {},
   "outputs": [
    {
     "data": {
      "text/html": [
       "<div>\n",
       "<style scoped>\n",
       "    .dataframe tbody tr th:only-of-type {\n",
       "        vertical-align: middle;\n",
       "    }\n",
       "\n",
       "    .dataframe tbody tr th {\n",
       "        vertical-align: top;\n",
       "    }\n",
       "\n",
       "    .dataframe thead th {\n",
       "        text-align: right;\n",
       "    }\n",
       "</style>\n",
       "<table border=\"1\" class=\"dataframe\">\n",
       "  <thead>\n",
       "    <tr style=\"text-align: right;\">\n",
       "      <th></th>\n",
       "      <th>Store ID</th>\n",
       "      <th>SKU ID</th>\n",
       "      <th>Total Visits</th>\n",
       "      <th>Transactions</th>\n",
       "      <th>Revenue</th>\n",
       "    </tr>\n",
       "  </thead>\n",
       "  <tbody>\n",
       "    <tr>\n",
       "      <th>0</th>\n",
       "      <td>Store_1</td>\n",
       "      <td>SKU_1</td>\n",
       "      <td>606</td>\n",
       "      <td>573</td>\n",
       "      <td>74688.67</td>\n",
       "    </tr>\n",
       "    <tr>\n",
       "      <th>1</th>\n",
       "      <td>Store_1</td>\n",
       "      <td>SKU_2</td>\n",
       "      <td>695</td>\n",
       "      <td>27</td>\n",
       "      <td>1390.60</td>\n",
       "    </tr>\n",
       "    <tr>\n",
       "      <th>2</th>\n",
       "      <td>Store_1</td>\n",
       "      <td>SKU_3</td>\n",
       "      <td>389</td>\n",
       "      <td>285</td>\n",
       "      <td>50679.63</td>\n",
       "    </tr>\n",
       "    <tr>\n",
       "      <th>3</th>\n",
       "      <td>Store_1</td>\n",
       "      <td>SKU_4</td>\n",
       "      <td>689</td>\n",
       "      <td>505</td>\n",
       "      <td>16764.34</td>\n",
       "    </tr>\n",
       "    <tr>\n",
       "      <th>4</th>\n",
       "      <td>Store_1</td>\n",
       "      <td>SKU_5</td>\n",
       "      <td>522</td>\n",
       "      <td>230</td>\n",
       "      <td>41928.40</td>\n",
       "    </tr>\n",
       "  </tbody>\n",
       "</table>\n",
       "</div>"
      ],
      "text/plain": [
       "  Store ID SKU ID  Total Visits  Transactions   Revenue\n",
       "0  Store_1  SKU_1           606           573  74688.67\n",
       "1  Store_1  SKU_2           695            27   1390.60\n",
       "2  Store_1  SKU_3           389           285  50679.63\n",
       "3  Store_1  SKU_4           689           505  16764.34\n",
       "4  Store_1  SKU_5           522           230  41928.40"
      ]
     },
     "execution_count": 23,
     "metadata": {},
     "output_type": "execute_result"
    }
   ],
   "source": [
    "df.head(5)"
   ]
  },
  {
   "cell_type": "markdown",
   "id": "f53ba870-f5e9-42d8-88b4-64a730e08d47",
   "metadata": {},
   "source": [
    "# Finding conversion rates"
   ]
  },
  {
   "cell_type": "markdown",
   "id": "deedeca6-5eef-4fcd-a7b1-2665348fe248",
   "metadata": {},
   "source": [
    "# 1) Product level analysis"
   ]
  },
  {
   "cell_type": "code",
   "execution_count": 29,
   "id": "b9e3be0d-b770-4574-a627-8cefa7215bd2",
   "metadata": {},
   "outputs": [],
   "source": [
    "# product level analysis\n",
    "df['sku_conversion_rate']=df['Transactions']/df['Total Visits']"
   ]
  },
  {
   "cell_type": "code",
   "execution_count": 76,
   "id": "cd440e9f-1729-4b8d-a98b-ed8d8527aab5",
   "metadata": {},
   "outputs": [
    {
     "data": {
      "text/html": [
       "<div>\n",
       "<style scoped>\n",
       "    .dataframe tbody tr th:only-of-type {\n",
       "        vertical-align: middle;\n",
       "    }\n",
       "\n",
       "    .dataframe tbody tr th {\n",
       "        vertical-align: top;\n",
       "    }\n",
       "\n",
       "    .dataframe thead th {\n",
       "        text-align: right;\n",
       "    }\n",
       "</style>\n",
       "<table border=\"1\" class=\"dataframe\">\n",
       "  <thead>\n",
       "    <tr style=\"text-align: right;\">\n",
       "      <th></th>\n",
       "      <th>Store ID</th>\n",
       "      <th>SKU ID</th>\n",
       "      <th>Total Visits</th>\n",
       "      <th>Transactions</th>\n",
       "      <th>Revenue</th>\n",
       "      <th>sku_conversion_rate</th>\n",
       "    </tr>\n",
       "  </thead>\n",
       "  <tbody>\n",
       "    <tr>\n",
       "      <th>401</th>\n",
       "      <td>Store_21</td>\n",
       "      <td>SKU_2</td>\n",
       "      <td>538</td>\n",
       "      <td>537</td>\n",
       "      <td>9392.72</td>\n",
       "      <td>0.998141</td>\n",
       "    </tr>\n",
       "    <tr>\n",
       "      <th>540</th>\n",
       "      <td>Store_28</td>\n",
       "      <td>SKU_1</td>\n",
       "      <td>734</td>\n",
       "      <td>732</td>\n",
       "      <td>117151.27</td>\n",
       "      <td>0.997275</td>\n",
       "    </tr>\n",
       "    <tr>\n",
       "      <th>22</th>\n",
       "      <td>Store_2</td>\n",
       "      <td>SKU_3</td>\n",
       "      <td>886</td>\n",
       "      <td>883</td>\n",
       "      <td>173818.90</td>\n",
       "      <td>0.996614</td>\n",
       "    </tr>\n",
       "    <tr>\n",
       "      <th>724</th>\n",
       "      <td>Store_37</td>\n",
       "      <td>SKU_5</td>\n",
       "      <td>647</td>\n",
       "      <td>644</td>\n",
       "      <td>7789.79</td>\n",
       "      <td>0.995363</td>\n",
       "    </tr>\n",
       "    <tr>\n",
       "      <th>281</th>\n",
       "      <td>Store_15</td>\n",
       "      <td>SKU_2</td>\n",
       "      <td>194</td>\n",
       "      <td>193</td>\n",
       "      <td>21862.08</td>\n",
       "      <td>0.994845</td>\n",
       "    </tr>\n",
       "  </tbody>\n",
       "</table>\n",
       "</div>"
      ],
      "text/plain": [
       "     Store ID SKU ID  Total Visits  Transactions    Revenue  \\\n",
       "401  Store_21  SKU_2           538           537    9392.72   \n",
       "540  Store_28  SKU_1           734           732  117151.27   \n",
       "22    Store_2  SKU_3           886           883  173818.90   \n",
       "724  Store_37  SKU_5           647           644    7789.79   \n",
       "281  Store_15  SKU_2           194           193   21862.08   \n",
       "\n",
       "     sku_conversion_rate  \n",
       "401             0.998141  \n",
       "540             0.997275  \n",
       "22              0.996614  \n",
       "724             0.995363  \n",
       "281             0.994845  "
      ]
     },
     "execution_count": 76,
     "metadata": {},
     "output_type": "execute_result"
    }
   ],
   "source": [
    "# top 5 Product level Conversion rates\n",
    "df.sort_values(by='sku_conversion_rate', ascending=False).head(5)"
   ]
  },
  {
   "cell_type": "markdown",
   "id": "2050ba5d-6f71-41d9-9348-27e942cf5662",
   "metadata": {},
   "source": [
    " SKU_1,SKU_2,SKU_3 ,etc  have max conversion rates (>99%) - they are the top performing products"
   ]
  },
  {
   "cell_type": "code",
   "execution_count": 164,
   "id": "268c737b-8ab2-43f7-8708-3f9ed9ed01e5",
   "metadata": {},
   "outputs": [
    {
     "data": {
      "text/html": [
       "<div>\n",
       "<style scoped>\n",
       "    .dataframe tbody tr th:only-of-type {\n",
       "        vertical-align: middle;\n",
       "    }\n",
       "\n",
       "    .dataframe tbody tr th {\n",
       "        vertical-align: top;\n",
       "    }\n",
       "\n",
       "    .dataframe thead th {\n",
       "        text-align: right;\n",
       "    }\n",
       "</style>\n",
       "<table border=\"1\" class=\"dataframe\">\n",
       "  <thead>\n",
       "    <tr style=\"text-align: right;\">\n",
       "      <th></th>\n",
       "      <th>SKU ID</th>\n",
       "      <th>Total Visits</th>\n",
       "      <th>Transactions</th>\n",
       "      <th>Revenue</th>\n",
       "      <th>overall_conversion_rate</th>\n",
       "    </tr>\n",
       "  </thead>\n",
       "  <tbody>\n",
       "    <tr>\n",
       "      <th>2</th>\n",
       "      <td>SKU_11</td>\n",
       "      <td>27856</td>\n",
       "      <td>16323</td>\n",
       "      <td>1665863.73</td>\n",
       "      <td>0.585978</td>\n",
       "    </tr>\n",
       "    <tr>\n",
       "      <th>17</th>\n",
       "      <td>SKU_7</td>\n",
       "      <td>26103</td>\n",
       "      <td>14654</td>\n",
       "      <td>1674024.12</td>\n",
       "      <td>0.561391</td>\n",
       "    </tr>\n",
       "    <tr>\n",
       "      <th>7</th>\n",
       "      <td>SKU_16</td>\n",
       "      <td>23574</td>\n",
       "      <td>12906</td>\n",
       "      <td>1234789.51</td>\n",
       "      <td>0.547468</td>\n",
       "    </tr>\n",
       "    <tr>\n",
       "      <th>14</th>\n",
       "      <td>SKU_4</td>\n",
       "      <td>24782</td>\n",
       "      <td>13505</td>\n",
       "      <td>1370489.58</td>\n",
       "      <td>0.544952</td>\n",
       "    </tr>\n",
       "    <tr>\n",
       "      <th>19</th>\n",
       "      <td>SKU_9</td>\n",
       "      <td>26715</td>\n",
       "      <td>14324</td>\n",
       "      <td>1284551.61</td>\n",
       "      <td>0.536178</td>\n",
       "    </tr>\n",
       "  </tbody>\n",
       "</table>\n",
       "</div>"
      ],
      "text/plain": [
       "    SKU ID  Total Visits  Transactions     Revenue  overall_conversion_rate\n",
       "2   SKU_11         27856         16323  1665863.73                 0.585978\n",
       "17   SKU_7         26103         14654  1674024.12                 0.561391\n",
       "7   SKU_16         23574         12906  1234789.51                 0.547468\n",
       "14   SKU_4         24782         13505  1370489.58                 0.544952\n",
       "19   SKU_9         26715         14324  1284551.61                 0.536178"
      ]
     },
     "execution_count": 164,
     "metadata": {},
     "output_type": "execute_result"
    }
   ],
   "source": [
    "# Top averge conversion rates per SKU\n",
    "sku_summary = df.groupby('SKU ID').agg({\n",
    "    'Total Visits': 'sum',\n",
    "    'Transactions': 'sum',\n",
    "    'Revenue': 'sum'\n",
    "}).reset_index()\n",
    "\n",
    "sku_summary['overall_conversion_rate'] = sku_summary['Transactions'] / sku_summary['Total Visits']\n",
    "\n",
    "# Sort by overall conversion rate\n",
    "sku_summary.sort_values(by='overall_conversion_rate', ascending=False).head(5)"
   ]
  },
  {
   "cell_type": "markdown",
   "id": "70dccbc6-54db-4a57-97b2-8a9881a9699e",
   "metadata": {},
   "source": [
    "sku_11 has the top mean conversion rate across all stores"
   ]
  },
  {
   "cell_type": "code",
   "execution_count": 78,
   "id": "eb6cf8d9-5730-448d-8ce5-2fea94e4d128",
   "metadata": {},
   "outputs": [
    {
     "data": {
      "text/html": [
       "<div>\n",
       "<style scoped>\n",
       "    .dataframe tbody tr th:only-of-type {\n",
       "        vertical-align: middle;\n",
       "    }\n",
       "\n",
       "    .dataframe tbody tr th {\n",
       "        vertical-align: top;\n",
       "    }\n",
       "\n",
       "    .dataframe thead th {\n",
       "        text-align: right;\n",
       "    }\n",
       "</style>\n",
       "<table border=\"1\" class=\"dataframe\">\n",
       "  <thead>\n",
       "    <tr style=\"text-align: right;\">\n",
       "      <th></th>\n",
       "      <th>Store ID</th>\n",
       "      <th>SKU ID</th>\n",
       "      <th>Total Visits</th>\n",
       "      <th>Transactions</th>\n",
       "      <th>Revenue</th>\n",
       "      <th>sku_conversion_rate</th>\n",
       "    </tr>\n",
       "  </thead>\n",
       "  <tbody>\n",
       "    <tr>\n",
       "      <th>164</th>\n",
       "      <td>Store_9</td>\n",
       "      <td>SKU_5</td>\n",
       "      <td>464</td>\n",
       "      <td>0</td>\n",
       "      <td>0.00</td>\n",
       "      <td>0.000000</td>\n",
       "    </tr>\n",
       "    <tr>\n",
       "      <th>189</th>\n",
       "      <td>Store_10</td>\n",
       "      <td>SKU_10</td>\n",
       "      <td>927</td>\n",
       "      <td>0</td>\n",
       "      <td>0.00</td>\n",
       "      <td>0.000000</td>\n",
       "    </tr>\n",
       "    <tr>\n",
       "      <th>388</th>\n",
       "      <td>Store_20</td>\n",
       "      <td>SKU_9</td>\n",
       "      <td>66</td>\n",
       "      <td>0</td>\n",
       "      <td>0.00</td>\n",
       "      <td>0.000000</td>\n",
       "    </tr>\n",
       "    <tr>\n",
       "      <th>578</th>\n",
       "      <td>Store_29</td>\n",
       "      <td>SKU_19</td>\n",
       "      <td>846</td>\n",
       "      <td>0</td>\n",
       "      <td>0.00</td>\n",
       "      <td>0.000000</td>\n",
       "    </tr>\n",
       "    <tr>\n",
       "      <th>311</th>\n",
       "      <td>Store_16</td>\n",
       "      <td>SKU_12</td>\n",
       "      <td>874</td>\n",
       "      <td>0</td>\n",
       "      <td>0.00</td>\n",
       "      <td>0.000000</td>\n",
       "    </tr>\n",
       "    <tr>\n",
       "      <th>154</th>\n",
       "      <td>Store_8</td>\n",
       "      <td>SKU_15</td>\n",
       "      <td>410</td>\n",
       "      <td>0</td>\n",
       "      <td>0.00</td>\n",
       "      <td>0.000000</td>\n",
       "    </tr>\n",
       "    <tr>\n",
       "      <th>631</th>\n",
       "      <td>Store_32</td>\n",
       "      <td>SKU_12</td>\n",
       "      <td>707</td>\n",
       "      <td>1</td>\n",
       "      <td>61.80</td>\n",
       "      <td>0.001414</td>\n",
       "    </tr>\n",
       "    <tr>\n",
       "      <th>33</th>\n",
       "      <td>Store_2</td>\n",
       "      <td>SKU_14</td>\n",
       "      <td>621</td>\n",
       "      <td>1</td>\n",
       "      <td>199.29</td>\n",
       "      <td>0.001610</td>\n",
       "    </tr>\n",
       "    <tr>\n",
       "      <th>82</th>\n",
       "      <td>Store_5</td>\n",
       "      <td>SKU_3</td>\n",
       "      <td>669</td>\n",
       "      <td>4</td>\n",
       "      <td>387.52</td>\n",
       "      <td>0.005979</td>\n",
       "    </tr>\n",
       "    <tr>\n",
       "      <th>695</th>\n",
       "      <td>Store_35</td>\n",
       "      <td>SKU_16</td>\n",
       "      <td>897</td>\n",
       "      <td>6</td>\n",
       "      <td>407.33</td>\n",
       "      <td>0.006689</td>\n",
       "    </tr>\n",
       "  </tbody>\n",
       "</table>\n",
       "</div>"
      ],
      "text/plain": [
       "     Store ID  SKU ID  Total Visits  Transactions  Revenue  \\\n",
       "164   Store_9   SKU_5           464             0     0.00   \n",
       "189  Store_10  SKU_10           927             0     0.00   \n",
       "388  Store_20   SKU_9            66             0     0.00   \n",
       "578  Store_29  SKU_19           846             0     0.00   \n",
       "311  Store_16  SKU_12           874             0     0.00   \n",
       "154   Store_8  SKU_15           410             0     0.00   \n",
       "631  Store_32  SKU_12           707             1    61.80   \n",
       "33    Store_2  SKU_14           621             1   199.29   \n",
       "82    Store_5   SKU_3           669             4   387.52   \n",
       "695  Store_35  SKU_16           897             6   407.33   \n",
       "\n",
       "     sku_conversion_rate  \n",
       "164             0.000000  \n",
       "189             0.000000  \n",
       "388             0.000000  \n",
       "578             0.000000  \n",
       "311             0.000000  \n",
       "154             0.000000  \n",
       "631             0.001414  \n",
       "33              0.001610  \n",
       "82              0.005979  \n",
       "695             0.006689  "
      ]
     },
     "execution_count": 78,
     "metadata": {},
     "output_type": "execute_result"
    }
   ],
   "source": [
    "df.sort_values(by='sku_conversion_rate', ascending=True).head(10)"
   ]
  },
  {
   "cell_type": "markdown",
   "id": "e53826e2-2b0d-4113-bdbf-6624c9e86bdb",
   "metadata": {},
   "source": [
    " Products having  SKU ID 5,10,9,19,12,15 have a least conversion rate  of 0 "
   ]
  },
  {
   "cell_type": "markdown",
   "id": "af34a9c8-5e28-4aed-bdcb-63e4c34c86b9",
   "metadata": {},
   "source": [
    "# 2) Store level analysis"
   ]
  },
  {
   "cell_type": "code",
   "execution_count": 35,
   "id": "11852b12-3dc6-4b69-ab83-cb40f845a0bb",
   "metadata": {},
   "outputs": [],
   "source": [
    "# for store level analysis\n",
    "store_level_df = df.groupby('Store ID')[['Total Visits', 'Transactions']].sum()"
   ]
  },
  {
   "cell_type": "code",
   "execution_count": 37,
   "id": "4b8a1dc0-72ff-4a6f-b492-3e4ecb73eea9",
   "metadata": {},
   "outputs": [
    {
     "data": {
      "text/html": [
       "<div>\n",
       "<style scoped>\n",
       "    .dataframe tbody tr th:only-of-type {\n",
       "        vertical-align: middle;\n",
       "    }\n",
       "\n",
       "    .dataframe tbody tr th {\n",
       "        vertical-align: top;\n",
       "    }\n",
       "\n",
       "    .dataframe thead th {\n",
       "        text-align: right;\n",
       "    }\n",
       "</style>\n",
       "<table border=\"1\" class=\"dataframe\">\n",
       "  <thead>\n",
       "    <tr style=\"text-align: right;\">\n",
       "      <th></th>\n",
       "      <th>Total Visits</th>\n",
       "      <th>Transactions</th>\n",
       "    </tr>\n",
       "    <tr>\n",
       "      <th>Store ID</th>\n",
       "      <th></th>\n",
       "      <th></th>\n",
       "    </tr>\n",
       "  </thead>\n",
       "  <tbody>\n",
       "    <tr>\n",
       "      <th>Store_1</th>\n",
       "      <td>11296</td>\n",
       "      <td>6054</td>\n",
       "    </tr>\n",
       "    <tr>\n",
       "      <th>Store_10</th>\n",
       "      <td>12173</td>\n",
       "      <td>6311</td>\n",
       "    </tr>\n",
       "    <tr>\n",
       "      <th>Store_11</th>\n",
       "      <td>9362</td>\n",
       "      <td>4526</td>\n",
       "    </tr>\n",
       "    <tr>\n",
       "      <th>Store_12</th>\n",
       "      <td>8698</td>\n",
       "      <td>3310</td>\n",
       "    </tr>\n",
       "    <tr>\n",
       "      <th>Store_13</th>\n",
       "      <td>11846</td>\n",
       "      <td>5155</td>\n",
       "    </tr>\n",
       "  </tbody>\n",
       "</table>\n",
       "</div>"
      ],
      "text/plain": [
       "          Total Visits  Transactions\n",
       "Store ID                            \n",
       "Store_1          11296          6054\n",
       "Store_10         12173          6311\n",
       "Store_11          9362          4526\n",
       "Store_12          8698          3310\n",
       "Store_13         11846          5155"
      ]
     },
     "execution_count": 37,
     "metadata": {},
     "output_type": "execute_result"
    }
   ],
   "source": [
    "store_level_df.head()"
   ]
  },
  {
   "cell_type": "code",
   "execution_count": 41,
   "id": "a87a9792-ebd1-48cd-92c3-7a60e12fd8aa",
   "metadata": {},
   "outputs": [],
   "source": [
    "# finding conversion rates in different stores\n",
    "store_level_df['Store_Conversion_Rate'] = store_level_df['Transactions'] / store_level_df['Total Visits']"
   ]
  },
  {
   "cell_type": "code",
   "execution_count": 43,
   "id": "3cedad47-9019-4665-9eb6-b9637986297b",
   "metadata": {},
   "outputs": [
    {
     "data": {
      "text/html": [
       "<div>\n",
       "<style scoped>\n",
       "    .dataframe tbody tr th:only-of-type {\n",
       "        vertical-align: middle;\n",
       "    }\n",
       "\n",
       "    .dataframe tbody tr th {\n",
       "        vertical-align: top;\n",
       "    }\n",
       "\n",
       "    .dataframe thead th {\n",
       "        text-align: right;\n",
       "    }\n",
       "</style>\n",
       "<table border=\"1\" class=\"dataframe\">\n",
       "  <thead>\n",
       "    <tr style=\"text-align: right;\">\n",
       "      <th></th>\n",
       "      <th>Total Visits</th>\n",
       "      <th>Transactions</th>\n",
       "      <th>Store_Conversion_Rate</th>\n",
       "    </tr>\n",
       "    <tr>\n",
       "      <th>Store ID</th>\n",
       "      <th></th>\n",
       "      <th></th>\n",
       "      <th></th>\n",
       "    </tr>\n",
       "  </thead>\n",
       "  <tbody>\n",
       "    <tr>\n",
       "      <th>Store_1</th>\n",
       "      <td>11296</td>\n",
       "      <td>6054</td>\n",
       "      <td>0.535942</td>\n",
       "    </tr>\n",
       "    <tr>\n",
       "      <th>Store_10</th>\n",
       "      <td>12173</td>\n",
       "      <td>6311</td>\n",
       "      <td>0.518442</td>\n",
       "    </tr>\n",
       "    <tr>\n",
       "      <th>Store_11</th>\n",
       "      <td>9362</td>\n",
       "      <td>4526</td>\n",
       "      <td>0.483444</td>\n",
       "    </tr>\n",
       "    <tr>\n",
       "      <th>Store_12</th>\n",
       "      <td>8698</td>\n",
       "      <td>3310</td>\n",
       "      <td>0.380547</td>\n",
       "    </tr>\n",
       "    <tr>\n",
       "      <th>Store_13</th>\n",
       "      <td>11846</td>\n",
       "      <td>5155</td>\n",
       "      <td>0.435168</td>\n",
       "    </tr>\n",
       "  </tbody>\n",
       "</table>\n",
       "</div>"
      ],
      "text/plain": [
       "          Total Visits  Transactions  Store_Conversion_Rate\n",
       "Store ID                                                   \n",
       "Store_1          11296          6054               0.535942\n",
       "Store_10         12173          6311               0.518442\n",
       "Store_11          9362          4526               0.483444\n",
       "Store_12          8698          3310               0.380547\n",
       "Store_13         11846          5155               0.435168"
      ]
     },
     "execution_count": 43,
     "metadata": {},
     "output_type": "execute_result"
    }
   ],
   "source": [
    "store_level_df.head()"
   ]
  },
  {
   "cell_type": "code",
   "execution_count": 63,
   "id": "9b53b712-a051-49fa-9850-e0f94940501c",
   "metadata": {},
   "outputs": [
    {
     "data": {
      "text/html": [
       "<div>\n",
       "<style scoped>\n",
       "    .dataframe tbody tr th:only-of-type {\n",
       "        vertical-align: middle;\n",
       "    }\n",
       "\n",
       "    .dataframe tbody tr th {\n",
       "        vertical-align: top;\n",
       "    }\n",
       "\n",
       "    .dataframe thead th {\n",
       "        text-align: right;\n",
       "    }\n",
       "</style>\n",
       "<table border=\"1\" class=\"dataframe\">\n",
       "  <thead>\n",
       "    <tr style=\"text-align: right;\">\n",
       "      <th></th>\n",
       "      <th>Total Visits</th>\n",
       "      <th>Transactions</th>\n",
       "      <th>Store_Conversion_Rate</th>\n",
       "    </tr>\n",
       "    <tr>\n",
       "      <th>Store ID</th>\n",
       "      <th></th>\n",
       "      <th></th>\n",
       "      <th></th>\n",
       "    </tr>\n",
       "  </thead>\n",
       "  <tbody>\n",
       "    <tr>\n",
       "      <th>Store_39</th>\n",
       "      <td>9213</td>\n",
       "      <td>6124</td>\n",
       "      <td>0.664713</td>\n",
       "    </tr>\n",
       "    <tr>\n",
       "      <th>Store_49</th>\n",
       "      <td>11032</td>\n",
       "      <td>7129</td>\n",
       "      <td>0.646211</td>\n",
       "    </tr>\n",
       "    <tr>\n",
       "      <th>Store_44</th>\n",
       "      <td>8482</td>\n",
       "      <td>5356</td>\n",
       "      <td>0.631455</td>\n",
       "    </tr>\n",
       "    <tr>\n",
       "      <th>Store_37</th>\n",
       "      <td>9458</td>\n",
       "      <td>5937</td>\n",
       "      <td>0.627723</td>\n",
       "    </tr>\n",
       "    <tr>\n",
       "      <th>Store_47</th>\n",
       "      <td>9753</td>\n",
       "      <td>6081</td>\n",
       "      <td>0.623500</td>\n",
       "    </tr>\n",
       "  </tbody>\n",
       "</table>\n",
       "</div>"
      ],
      "text/plain": [
       "          Total Visits  Transactions  Store_Conversion_Rate\n",
       "Store ID                                                   \n",
       "Store_39          9213          6124               0.664713\n",
       "Store_49         11032          7129               0.646211\n",
       "Store_44          8482          5356               0.631455\n",
       "Store_37          9458          5937               0.627723\n",
       "Store_47          9753          6081               0.623500"
      ]
     },
     "execution_count": 63,
     "metadata": {},
     "output_type": "execute_result"
    }
   ],
   "source": [
    "# Top 5 stores by conversion rate\n",
    "store_level_df.sort_values(by='Store_Conversion_Rate', ascending=False).head(5)"
   ]
  },
  {
   "cell_type": "markdown",
   "id": "41f015fa-1b08-40e1-8bef-8bd7484d152f",
   "metadata": {},
   "source": [
    " Store 39 has max conversion rate of 66.4%"
   ]
  },
  {
   "cell_type": "code",
   "execution_count": 65,
   "id": "7405150b-cd56-4ad5-bb02-014d097277f9",
   "metadata": {},
   "outputs": [
    {
     "data": {
      "text/html": [
       "<div>\n",
       "<style scoped>\n",
       "    .dataframe tbody tr th:only-of-type {\n",
       "        vertical-align: middle;\n",
       "    }\n",
       "\n",
       "    .dataframe tbody tr th {\n",
       "        vertical-align: top;\n",
       "    }\n",
       "\n",
       "    .dataframe thead th {\n",
       "        text-align: right;\n",
       "    }\n",
       "</style>\n",
       "<table border=\"1\" class=\"dataframe\">\n",
       "  <thead>\n",
       "    <tr style=\"text-align: right;\">\n",
       "      <th></th>\n",
       "      <th>Total Visits</th>\n",
       "      <th>Transactions</th>\n",
       "      <th>Store_Conversion_Rate</th>\n",
       "    </tr>\n",
       "    <tr>\n",
       "      <th>Store ID</th>\n",
       "      <th></th>\n",
       "      <th></th>\n",
       "      <th></th>\n",
       "    </tr>\n",
       "  </thead>\n",
       "  <tbody>\n",
       "    <tr>\n",
       "      <th>Store_15</th>\n",
       "      <td>8922</td>\n",
       "      <td>3090</td>\n",
       "      <td>0.346335</td>\n",
       "    </tr>\n",
       "    <tr>\n",
       "      <th>Store_14</th>\n",
       "      <td>12804</td>\n",
       "      <td>4674</td>\n",
       "      <td>0.365042</td>\n",
       "    </tr>\n",
       "    <tr>\n",
       "      <th>Store_36</th>\n",
       "      <td>10149</td>\n",
       "      <td>3819</td>\n",
       "      <td>0.376293</td>\n",
       "    </tr>\n",
       "    <tr>\n",
       "      <th>Store_30</th>\n",
       "      <td>10659</td>\n",
       "      <td>4043</td>\n",
       "      <td>0.379304</td>\n",
       "    </tr>\n",
       "    <tr>\n",
       "      <th>Store_12</th>\n",
       "      <td>8698</td>\n",
       "      <td>3310</td>\n",
       "      <td>0.380547</td>\n",
       "    </tr>\n",
       "  </tbody>\n",
       "</table>\n",
       "</div>"
      ],
      "text/plain": [
       "          Total Visits  Transactions  Store_Conversion_Rate\n",
       "Store ID                                                   \n",
       "Store_15          8922          3090               0.346335\n",
       "Store_14         12804          4674               0.365042\n",
       "Store_36         10149          3819               0.376293\n",
       "Store_30         10659          4043               0.379304\n",
       "Store_12          8698          3310               0.380547"
      ]
     },
     "execution_count": 65,
     "metadata": {},
     "output_type": "execute_result"
    }
   ],
   "source": [
    "# Bottom 5 stores by conversion rate\n",
    "store_level_df.sort_values(by='Store_Conversion_Rate', ascending=True).head(5)"
   ]
  },
  {
   "cell_type": "markdown",
   "id": "b15dc1d5-9de7-4075-a8d9-a01ae5470ae2",
   "metadata": {},
   "source": [
    " Store 15 has min conversion rate of 34.63%"
   ]
  },
  {
   "cell_type": "markdown",
   "id": "85c798d4-089b-4d03-8474-1dd2fb1823cb",
   "metadata": {},
   "source": [
    "# Stores having Top mean conversion rates"
   ]
  },
  {
   "cell_type": "code",
   "execution_count": 145,
   "id": "881b80ee-2402-47be-ac5f-c99c3cc3044e",
   "metadata": {},
   "outputs": [
    {
     "data": {
      "text/plain": [
       "Store ID\n",
       "Store_47    0.658466\n",
       "Store_49    0.611291\n",
       "Store_39    0.605598\n",
       "Store_37    0.605362\n",
       "Store_43    0.583027\n",
       "Name: sku_conversion_rate, dtype: float64"
      ]
     },
     "metadata": {},
     "output_type": "display_data"
    }
   ],
   "source": [
    "# Group by Store ID and get average SKU conversion rate per store\n",
    "avg_conversion_per_store = df.groupby('Store ID')['sku_conversion_rate'].mean().sort_values(ascending=False)\n",
    "\n",
    "# Check top stores\n",
    "top_avg_conversion_stores = avg_conversion_per_store.head(5)\n",
    "display(top_avg_conversion_stores)"
   ]
  },
  {
   "cell_type": "markdown",
   "id": "79a329c0-c2d7-4ee5-8514-8c0abce16630",
   "metadata": {},
   "source": [
    "store_47 has highest mean conversion rate of 65.8%"
   ]
  },
  {
   "cell_type": "code",
   "execution_count": 94,
   "id": "793895f4-a481-405e-b3ba-e7b98f576ee9",
   "metadata": {},
   "outputs": [
    {
     "data": {
      "text/html": [
       "<div>\n",
       "<style scoped>\n",
       "    .dataframe tbody tr th:only-of-type {\n",
       "        vertical-align: middle;\n",
       "    }\n",
       "\n",
       "    .dataframe tbody tr th {\n",
       "        vertical-align: top;\n",
       "    }\n",
       "\n",
       "    .dataframe thead th {\n",
       "        text-align: right;\n",
       "    }\n",
       "</style>\n",
       "<table border=\"1\" class=\"dataframe\">\n",
       "  <thead>\n",
       "    <tr style=\"text-align: right;\">\n",
       "      <th></th>\n",
       "      <th>SKU ID</th>\n",
       "      <th>sku_conversion_rate</th>\n",
       "    </tr>\n",
       "  </thead>\n",
       "  <tbody>\n",
       "    <tr>\n",
       "      <th>930</th>\n",
       "      <td>SKU_11</td>\n",
       "      <td>0.992727</td>\n",
       "    </tr>\n",
       "    <tr>\n",
       "      <th>922</th>\n",
       "      <td>SKU_3</td>\n",
       "      <td>0.989583</td>\n",
       "    </tr>\n",
       "    <tr>\n",
       "      <th>937</th>\n",
       "      <td>SKU_18</td>\n",
       "      <td>0.967213</td>\n",
       "    </tr>\n",
       "    <tr>\n",
       "      <th>929</th>\n",
       "      <td>SKU_10</td>\n",
       "      <td>0.904448</td>\n",
       "    </tr>\n",
       "    <tr>\n",
       "      <th>933</th>\n",
       "      <td>SKU_14</td>\n",
       "      <td>0.851804</td>\n",
       "    </tr>\n",
       "    <tr>\n",
       "      <th>921</th>\n",
       "      <td>SKU_2</td>\n",
       "      <td>0.830957</td>\n",
       "    </tr>\n",
       "    <tr>\n",
       "      <th>934</th>\n",
       "      <td>SKU_15</td>\n",
       "      <td>0.825758</td>\n",
       "    </tr>\n",
       "    <tr>\n",
       "      <th>926</th>\n",
       "      <td>SKU_7</td>\n",
       "      <td>0.816406</td>\n",
       "    </tr>\n",
       "    <tr>\n",
       "      <th>932</th>\n",
       "      <td>SKU_13</td>\n",
       "      <td>0.815152</td>\n",
       "    </tr>\n",
       "    <tr>\n",
       "      <th>925</th>\n",
       "      <td>SKU_6</td>\n",
       "      <td>0.800905</td>\n",
       "    </tr>\n",
       "    <tr>\n",
       "      <th>924</th>\n",
       "      <td>SKU_5</td>\n",
       "      <td>0.652916</td>\n",
       "    </tr>\n",
       "    <tr>\n",
       "      <th>939</th>\n",
       "      <td>SKU_20</td>\n",
       "      <td>0.650206</td>\n",
       "    </tr>\n",
       "    <tr>\n",
       "      <th>935</th>\n",
       "      <td>SKU_16</td>\n",
       "      <td>0.576842</td>\n",
       "    </tr>\n",
       "    <tr>\n",
       "      <th>931</th>\n",
       "      <td>SKU_12</td>\n",
       "      <td>0.565363</td>\n",
       "    </tr>\n",
       "    <tr>\n",
       "      <th>938</th>\n",
       "      <td>SKU_19</td>\n",
       "      <td>0.474880</td>\n",
       "    </tr>\n",
       "    <tr>\n",
       "      <th>927</th>\n",
       "      <td>SKU_8</td>\n",
       "      <td>0.359712</td>\n",
       "    </tr>\n",
       "    <tr>\n",
       "      <th>923</th>\n",
       "      <td>SKU_4</td>\n",
       "      <td>0.320442</td>\n",
       "    </tr>\n",
       "    <tr>\n",
       "      <th>936</th>\n",
       "      <td>SKU_17</td>\n",
       "      <td>0.315315</td>\n",
       "    </tr>\n",
       "    <tr>\n",
       "      <th>920</th>\n",
       "      <td>SKU_1</td>\n",
       "      <td>0.275762</td>\n",
       "    </tr>\n",
       "    <tr>\n",
       "      <th>928</th>\n",
       "      <td>SKU_9</td>\n",
       "      <td>0.182927</td>\n",
       "    </tr>\n",
       "  </tbody>\n",
       "</table>\n",
       "</div>"
      ],
      "text/plain": [
       "     SKU ID  sku_conversion_rate\n",
       "930  SKU_11             0.992727\n",
       "922   SKU_3             0.989583\n",
       "937  SKU_18             0.967213\n",
       "929  SKU_10             0.904448\n",
       "933  SKU_14             0.851804\n",
       "921   SKU_2             0.830957\n",
       "934  SKU_15             0.825758\n",
       "926   SKU_7             0.816406\n",
       "932  SKU_13             0.815152\n",
       "925   SKU_6             0.800905\n",
       "924   SKU_5             0.652916\n",
       "939  SKU_20             0.650206\n",
       "935  SKU_16             0.576842\n",
       "931  SKU_12             0.565363\n",
       "938  SKU_19             0.474880\n",
       "927   SKU_8             0.359712\n",
       "923   SKU_4             0.320442\n",
       "936  SKU_17             0.315315\n",
       "920   SKU_1             0.275762\n",
       "928   SKU_9             0.182927"
      ]
     },
     "execution_count": 94,
     "metadata": {},
     "output_type": "execute_result"
    }
   ],
   "source": [
    "# Look at SKU conversion rates within one top store\n",
    "df[df['Store ID'] == top_avg_conversion_stores.index[0]][['SKU ID', 'sku_conversion_rate']].sort_values(by='sku_conversion_rate', ascending=False)"
   ]
  },
  {
   "cell_type": "markdown",
   "id": "d6c0dd6c-d889-4e7d-9d88-aee066cf458a",
   "metadata": {},
   "source": [
    "sku_11 is the top product in the top store"
   ]
  },
  {
   "cell_type": "code",
   "execution_count": 98,
   "id": "c227f983-0cfe-49ed-9df5-b3239e374a7f",
   "metadata": {},
   "outputs": [],
   "source": [
    "# Group by SKU ID, get number of stores and average conversion\n",
    "sku_performance = df.groupby('SKU ID').agg({\n",
    "    'Store ID': 'nunique',\n",
    "    'sku_conversion_rate': 'mean'\n",
    "}).rename(columns={'Store ID': 'Num_Stores'})\n",
    "\n",
    "# Filter for SKUs sold in many stores and high conversion\n",
    "top_skus_across_stores = sku_performance[sku_performance['Num_Stores'] > 3].sort_values(by='sku_conversion_rate', ascending=False).head(5)"
   ]
  },
  {
   "cell_type": "code",
   "execution_count": 100,
   "id": "4d961a57-4a09-4e58-a41b-d6d0c7f6d0f2",
   "metadata": {},
   "outputs": [
    {
     "name": "stdout",
     "output_type": "stream",
     "text": [
      "Top 5 SKUs performing well across multiple stores:\n"
     ]
    },
    {
     "data": {
      "text/html": [
       "<div>\n",
       "<style scoped>\n",
       "    .dataframe tbody tr th:only-of-type {\n",
       "        vertical-align: middle;\n",
       "    }\n",
       "\n",
       "    .dataframe tbody tr th {\n",
       "        vertical-align: top;\n",
       "    }\n",
       "\n",
       "    .dataframe thead th {\n",
       "        text-align: right;\n",
       "    }\n",
       "</style>\n",
       "<table border=\"1\" class=\"dataframe\">\n",
       "  <thead>\n",
       "    <tr style=\"text-align: right;\">\n",
       "      <th></th>\n",
       "      <th>Num_Stores</th>\n",
       "      <th>sku_conversion_rate</th>\n",
       "    </tr>\n",
       "    <tr>\n",
       "      <th>SKU ID</th>\n",
       "      <th></th>\n",
       "      <th></th>\n",
       "    </tr>\n",
       "  </thead>\n",
       "  <tbody>\n",
       "    <tr>\n",
       "      <th>SKU_11</th>\n",
       "      <td>50</td>\n",
       "      <td>0.576090</td>\n",
       "    </tr>\n",
       "    <tr>\n",
       "      <th>SKU_7</th>\n",
       "      <td>50</td>\n",
       "      <td>0.565181</td>\n",
       "    </tr>\n",
       "    <tr>\n",
       "      <th>SKU_9</th>\n",
       "      <td>50</td>\n",
       "      <td>0.533463</td>\n",
       "    </tr>\n",
       "    <tr>\n",
       "      <th>SKU_1</th>\n",
       "      <td>50</td>\n",
       "      <td>0.532657</td>\n",
       "    </tr>\n",
       "    <tr>\n",
       "      <th>SKU_16</th>\n",
       "      <td>50</td>\n",
       "      <td>0.528648</td>\n",
       "    </tr>\n",
       "  </tbody>\n",
       "</table>\n",
       "</div>"
      ],
      "text/plain": [
       "        Num_Stores  sku_conversion_rate\n",
       "SKU ID                                 \n",
       "SKU_11          50             0.576090\n",
       "SKU_7           50             0.565181\n",
       "SKU_9           50             0.533463\n",
       "SKU_1           50             0.532657\n",
       "SKU_16          50             0.528648"
      ]
     },
     "metadata": {},
     "output_type": "display_data"
    }
   ],
   "source": [
    "print(\"Top 5 SKUs performing well across multiple stores:\")\n",
    "display(top_skus_across_stores)"
   ]
  },
  {
   "cell_type": "markdown",
   "id": "09b9c081-a84a-44ff-9292-82622d3f98a8",
   "metadata": {},
   "source": [
    "# Conversions v/s visits"
   ]
  },
  {
   "cell_type": "code",
   "execution_count": 180,
   "id": "81560a04-0a29-45a8-8446-ed7f0d3a1119",
   "metadata": {},
   "outputs": [
    {
     "data": {
      "text/html": [
       "<div>\n",
       "<style scoped>\n",
       "    .dataframe tbody tr th:only-of-type {\n",
       "        vertical-align: middle;\n",
       "    }\n",
       "\n",
       "    .dataframe tbody tr th {\n",
       "        vertical-align: top;\n",
       "    }\n",
       "\n",
       "    .dataframe thead th {\n",
       "        text-align: right;\n",
       "    }\n",
       "</style>\n",
       "<table border=\"1\" class=\"dataframe\">\n",
       "  <thead>\n",
       "    <tr style=\"text-align: right;\">\n",
       "      <th></th>\n",
       "      <th>Total Visits</th>\n",
       "      <th>Transactions</th>\n",
       "      <th>Store_Conversion_Rate</th>\n",
       "    </tr>\n",
       "    <tr>\n",
       "      <th>Store ID</th>\n",
       "      <th></th>\n",
       "      <th></th>\n",
       "      <th></th>\n",
       "    </tr>\n",
       "  </thead>\n",
       "  <tbody>\n",
       "    <tr>\n",
       "      <th>Store_14</th>\n",
       "      <td>12804</td>\n",
       "      <td>4674</td>\n",
       "      <td>0.365042</td>\n",
       "    </tr>\n",
       "    <tr>\n",
       "      <th>Store_30</th>\n",
       "      <td>10659</td>\n",
       "      <td>4043</td>\n",
       "      <td>0.379304</td>\n",
       "    </tr>\n",
       "    <tr>\n",
       "      <th>Store_19</th>\n",
       "      <td>10678</td>\n",
       "      <td>4627</td>\n",
       "      <td>0.433321</td>\n",
       "    </tr>\n",
       "    <tr>\n",
       "      <th>Store_13</th>\n",
       "      <td>11846</td>\n",
       "      <td>5155</td>\n",
       "      <td>0.435168</td>\n",
       "    </tr>\n",
       "    <tr>\n",
       "      <th>Store_42</th>\n",
       "      <td>11239</td>\n",
       "      <td>5196</td>\n",
       "      <td>0.462319</td>\n",
       "    </tr>\n",
       "  </tbody>\n",
       "</table>\n",
       "</div>"
      ],
      "text/plain": [
       "          Total Visits  Transactions  Store_Conversion_Rate\n",
       "Store ID                                                   \n",
       "Store_14         12804          4674               0.365042\n",
       "Store_30         10659          4043               0.379304\n",
       "Store_19         10678          4627               0.433321\n",
       "Store_13         11846          5155               0.435168\n",
       "Store_42         11239          5196               0.462319"
      ]
     },
     "execution_count": 180,
     "metadata": {},
     "output_type": "execute_result"
    }
   ],
   "source": [
    "#  Sort by Total Visits (descending)\n",
    "top_visited_stores = store_level_df.sort_values(by='Total Visits', ascending=False).head(25)\n",
    "\n",
    "#  Sort those top visited stores by conversion rate (ascending)\n",
    "high_visit_low_conv = top_visited_stores.sort_values(by='Store_Conversion_Rate')\n",
    "\n",
    "#  Show the bottom 5 conversion rates among top 25 visited stores\n",
    "high_visit_low_conv.head(5)"
   ]
  },
  {
   "cell_type": "markdown",
   "id": "7c77d1cc-4b08-4d78-a0c7-814ecbbde308",
   "metadata": {},
   "source": [
    "Store_14 has the least conversion rate but highest visits"
   ]
  },
  {
   "cell_type": "markdown",
   "id": "ffb6540b-73ed-45fa-b6c9-12346790c79f",
   "metadata": {},
   "source": [
    "# Low efficiency stores"
   ]
  },
  {
   "cell_type": "code",
   "execution_count": 126,
   "id": "f4328ba0-1a97-440a-9b50-6934ad8a42d8",
   "metadata": {},
   "outputs": [
    {
     "data": {
      "text/html": [
       "<div>\n",
       "<style scoped>\n",
       "    .dataframe tbody tr th:only-of-type {\n",
       "        vertical-align: middle;\n",
       "    }\n",
       "\n",
       "    .dataframe tbody tr th {\n",
       "        vertical-align: top;\n",
       "    }\n",
       "\n",
       "    .dataframe thead th {\n",
       "        text-align: right;\n",
       "    }\n",
       "</style>\n",
       "<table border=\"1\" class=\"dataframe\">\n",
       "  <thead>\n",
       "    <tr style=\"text-align: right;\">\n",
       "      <th></th>\n",
       "      <th>Total Visits</th>\n",
       "      <th>Transactions</th>\n",
       "      <th>Store_Conversion_Rate</th>\n",
       "    </tr>\n",
       "    <tr>\n",
       "      <th>Store ID</th>\n",
       "      <th></th>\n",
       "      <th></th>\n",
       "      <th></th>\n",
       "    </tr>\n",
       "  </thead>\n",
       "  <tbody>\n",
       "    <tr>\n",
       "      <th>Store_12</th>\n",
       "      <td>8698</td>\n",
       "      <td>3310</td>\n",
       "      <td>0.380547</td>\n",
       "    </tr>\n",
       "    <tr>\n",
       "      <th>Store_14</th>\n",
       "      <td>12804</td>\n",
       "      <td>4674</td>\n",
       "      <td>0.365042</td>\n",
       "    </tr>\n",
       "    <tr>\n",
       "      <th>Store_15</th>\n",
       "      <td>8922</td>\n",
       "      <td>3090</td>\n",
       "      <td>0.346335</td>\n",
       "    </tr>\n",
       "    <tr>\n",
       "      <th>Store_23</th>\n",
       "      <td>9411</td>\n",
       "      <td>3759</td>\n",
       "      <td>0.399426</td>\n",
       "    </tr>\n",
       "    <tr>\n",
       "      <th>Store_30</th>\n",
       "      <td>10659</td>\n",
       "      <td>4043</td>\n",
       "      <td>0.379304</td>\n",
       "    </tr>\n",
       "    <tr>\n",
       "      <th>Store_36</th>\n",
       "      <td>10149</td>\n",
       "      <td>3819</td>\n",
       "      <td>0.376293</td>\n",
       "    </tr>\n",
       "  </tbody>\n",
       "</table>\n",
       "</div>"
      ],
      "text/plain": [
       "          Total Visits  Transactions  Store_Conversion_Rate\n",
       "Store ID                                                   \n",
       "Store_12          8698          3310               0.380547\n",
       "Store_14         12804          4674               0.365042\n",
       "Store_15          8922          3090               0.346335\n",
       "Store_23          9411          3759               0.399426\n",
       "Store_30         10659          4043               0.379304\n",
       "Store_36         10149          3819               0.376293"
      ]
     },
     "metadata": {},
     "output_type": "display_data"
    }
   ],
   "source": [
    "low_efficiency_stores = store_level_df[\n",
    "    (store_level_df['Total Visits'] > 1000) &\n",
    "    (store_level_df['Store_Conversion_Rate'] < 0.4)\n",
    "]\n",
    "display(low_efficiency_stores)"
   ]
  },
  {
   "cell_type": "markdown",
   "id": "1ed851f2-abe5-4e9d-94ca-96be750d3028",
   "metadata": {},
   "source": [
    "# Correlation b/w Revenue and sku_conversion_rate"
   ]
  },
  {
   "cell_type": "code",
   "execution_count": 132,
   "id": "31275a23-96c8-4002-aedd-93c4dc53bd99",
   "metadata": {},
   "outputs": [
    {
     "data": {
      "text/html": [
       "<div>\n",
       "<style scoped>\n",
       "    .dataframe tbody tr th:only-of-type {\n",
       "        vertical-align: middle;\n",
       "    }\n",
       "\n",
       "    .dataframe tbody tr th {\n",
       "        vertical-align: top;\n",
       "    }\n",
       "\n",
       "    .dataframe thead th {\n",
       "        text-align: right;\n",
       "    }\n",
       "</style>\n",
       "<table border=\"1\" class=\"dataframe\">\n",
       "  <thead>\n",
       "    <tr style=\"text-align: right;\">\n",
       "      <th></th>\n",
       "      <th>Revenue</th>\n",
       "      <th>sku_conversion_rate</th>\n",
       "    </tr>\n",
       "  </thead>\n",
       "  <tbody>\n",
       "    <tr>\n",
       "      <th>Revenue</th>\n",
       "      <td>1.000000</td>\n",
       "      <td>0.568857</td>\n",
       "    </tr>\n",
       "    <tr>\n",
       "      <th>sku_conversion_rate</th>\n",
       "      <td>0.568857</td>\n",
       "      <td>1.000000</td>\n",
       "    </tr>\n",
       "  </tbody>\n",
       "</table>\n",
       "</div>"
      ],
      "text/plain": [
       "                      Revenue  sku_conversion_rate\n",
       "Revenue              1.000000             0.568857\n",
       "sku_conversion_rate  0.568857             1.000000"
      ]
     },
     "execution_count": 132,
     "metadata": {},
     "output_type": "execute_result"
    }
   ],
   "source": [
    "# Check correlation\n",
    "df[['Revenue', 'sku_conversion_rate']].corr()"
   ]
  },
  {
   "cell_type": "markdown",
   "id": "ad7e1359-2e21-4b90-bd2f-5a3134e059b8",
   "metadata": {},
   "source": [
    "As correlation value b/w  revenue and sku_conversion rate is 0.568857 (+ve) , SKU conversion rate increases, revenue increases as well."
   ]
  },
  {
   "cell_type": "code",
   "execution_count": 134,
   "id": "09663d4b-add3-461c-b0c5-2fc04b714c3a",
   "metadata": {},
   "outputs": [],
   "source": [
    "# High revenue, low conversion SKUs\n",
    "rev_vs_conv = df[(df['Revenue'] > df['Revenue'].quantile(0.75)) & (df['sku_conversion_rate'] < df['sku_conversion_rate'].quantile(0.25))]"
   ]
  },
  {
   "cell_type": "code",
   "execution_count": 138,
   "id": "31857b07-0129-4668-841f-3da5d365677a",
   "metadata": {},
   "outputs": [
    {
     "data": {
      "text/html": [
       "<div>\n",
       "<style scoped>\n",
       "    .dataframe tbody tr th:only-of-type {\n",
       "        vertical-align: middle;\n",
       "    }\n",
       "\n",
       "    .dataframe tbody tr th {\n",
       "        vertical-align: top;\n",
       "    }\n",
       "\n",
       "    .dataframe thead th {\n",
       "        text-align: right;\n",
       "    }\n",
       "</style>\n",
       "<table border=\"1\" class=\"dataframe\">\n",
       "  <thead>\n",
       "    <tr style=\"text-align: right;\">\n",
       "      <th></th>\n",
       "      <th>SKU ID</th>\n",
       "      <th>Revenue</th>\n",
       "      <th>sku_conversion_rate</th>\n",
       "    </tr>\n",
       "  </thead>\n",
       "  <tbody>\n",
       "    <tr>\n",
       "      <th>803</th>\n",
       "      <td>SKU_4</td>\n",
       "      <td>41853.74</td>\n",
       "      <td>0.24055</td>\n",
       "    </tr>\n",
       "  </tbody>\n",
       "</table>\n",
       "</div>"
      ],
      "text/plain": [
       "    SKU ID   Revenue  sku_conversion_rate\n",
       "803  SKU_4  41853.74              0.24055"
      ]
     },
     "metadata": {},
     "output_type": "display_data"
    }
   ],
   "source": [
    "display(rev_vs_conv[['SKU ID', 'Revenue', 'sku_conversion_rate']].sort_values(by='Revenue', ascending=False))"
   ]
  },
  {
   "cell_type": "markdown",
   "id": "37fa9262-d8cd-491c-b427-75be58034078",
   "metadata": {},
   "source": [
    " Above is showing skus having top 25% revenue but but bottom 25% conversion rate"
   ]
  }
 ],
 "metadata": {
  "kernelspec": {
   "display_name": "Python 3 (ipykernel)",
   "language": "python",
   "name": "python3"
  },
  "language_info": {
   "codemirror_mode": {
    "name": "ipython",
    "version": 3
   },
   "file_extension": ".py",
   "mimetype": "text/x-python",
   "name": "python",
   "nbconvert_exporter": "python",
   "pygments_lexer": "ipython3",
   "version": "3.12.7"
  }
 },
 "nbformat": 4,
 "nbformat_minor": 5
}
